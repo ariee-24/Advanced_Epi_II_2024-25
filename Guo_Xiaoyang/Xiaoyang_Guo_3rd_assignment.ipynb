{
 "cells": [
  {
   "cell_type": "markdown",
   "id": "fb3a056853745392",
   "metadata": {},
   "source": [
    "## Exercise: Pandas & NumPy with Student Performance Dataset\n",
    "\n",
    "You are provided with three separate datasets, all originally derived from a single dataset. However, these datasets have undergone slight modifications through different processes. Your task is to analyze the datasets, identify the differences, and correctly merge them back together.\n",
    "\n",
    "**Important Notes**:\n",
    "- Some column names have been changed and need to be translated back.\n",
    "- Certain categorical variables have altered values (e.g., some categories have been renamed).\n",
    "- Check the distribution of numerical variables, as there may be discrepancies.\n",
    "- Missing values are present in multiple columns and need to be imputed appropriately. Justify your choice of imputation method.\n",
    "- Some columns have been stored in different data types (e.g., numbers as strings). Ensure that data types are correct before merging the datasets.\n",
    "\n",
    "Your Task:\n",
    "1. Load all three datasets into Python.\n",
    "2. Identify differences and discrepancies between the datasets.\n",
    "3. Reconstruct the original dataset by:\n",
    "    - Adjusting column names and data types.\n",
    "    - Correctly merging the datasets.\n",
    "    - Handling missing values (imputation) and justifying your chosen method.\n",
    "4. Save the final dataset as Merged_StudentData.csv.\n",
    "5. Perform hypothesis tests to analyze relationships between the following variables: `Sleep_Hours`, `Exam_Score`, `Internet_Access`, `Hours_Studied`, and `Tutoring_Sessions`."
   ]
  },
  {
   "cell_type": "code",
   "execution_count": 1,
   "id": "c077638d8b1e6b70",
   "metadata": {
    "ExecuteTime": {
     "end_time": "2025-03-16T20:18:14.506664Z",
     "start_time": "2025-03-16T20:18:14.502474Z"
    }
   },
   "outputs": [],
   "source": [
    "import pandas as pd\n",
    "\n",
    "# Load all three datasets\n",
    "df1 = pd.read_csv(\"Student Data Part 1 mv.csv\")\n",
    "df2 = pd.read_csv(\"Student Data Part 2 mv.csv\")\n",
    "df3 = pd.read_csv(\"Student Data Part 3 mv.csv\")"
   ]
  },
  {
   "cell_type": "code",
   "execution_count": 2,
   "id": "09424e43-2b09-45e9-8e0c-dfe25c520986",
   "metadata": {},
   "outputs": [
    {
     "name": "stdout",
     "output_type": "stream",
     "text": [
      "['Student_ID', 'Study_Hours', 'Attendance', 'Rest_Hours', 'Parental_Involvement', 'Access_to_Resources']\n",
      "['Unnamed: 0', 'Student_ID', 'Internet_Access', 'Tutoring_Sessions', 'Family_Income', 'Teacher_Quality', 'School_Type']\n",
      "['Student_ID', 'Final_Score', 'Parental_Education_Level', 'Distance_from_Home', 'Gender']\n"
     ]
    }
   ],
   "source": [
    "# Identify differences and discrpancies between datasets\n",
    "# Check the column names\n",
    "print(df1.columns.tolist())\n",
    "print(df2.columns.tolist())\n",
    "print(df3.columns.tolist())"
   ]
  },
  {
   "cell_type": "markdown",
   "id": "8b1cad8d-16a4-4f2c-bc25-963e74af7e09",
   "metadata": {},
   "source": [
    "According to the output of Python, we can get following conclusions:\n",
    "- Each dataset contains **only part of the information** about one student\n",
    "- All datasets have the **same column \"Student_ID\"**, which can be used for **merging**\n",
    "- Among all of the column names in three datasets, we can find out that there is an **unnecessory column \"Unnamed: 0\" in df2**, which should be **deleted**\n",
    "- Some column names are **different from the variable names in hypothesis** and should be converted"
   ]
  },
  {
   "cell_type": "code",
   "execution_count": 3,
   "id": "2fc0a881-aa97-4de9-8bbe-d6102889dbda",
   "metadata": {},
   "outputs": [
    {
     "name": "stdout",
     "output_type": "stream",
     "text": [
      "Student_ID                int64\n",
      "Study_Hours               int64\n",
      "Attendance                int64\n",
      "Rest_Hours              float64\n",
      "Parental_Involvement     object\n",
      "Access_to_Resources      object\n",
      "dtype: object\n",
      "Unnamed: 0             int64\n",
      "Student_ID             int64\n",
      "Internet_Access       object\n",
      "Tutoring_Sessions    float64\n",
      "Family_Income         object\n",
      "Teacher_Quality       object\n",
      "School_Type           object\n",
      "dtype: object\n",
      "Student_ID                    int64\n",
      "Final_Score                 float64\n",
      "Parental_Education_Level     object\n",
      "Distance_from_Home           object\n",
      "Gender                       object\n",
      "dtype: object\n"
     ]
    }
   ],
   "source": [
    "# Identify differences and discrpancies between datasets\n",
    "# Check the data type\n",
    "print(df1.dtypes)\n",
    "print(df2.dtypes)\n",
    "print(df3.dtypes)"
   ]
  },
  {
   "cell_type": "markdown",
   "id": "d8963037-c9c1-47a5-8b8e-a9233c3585cd",
   "metadata": {},
   "source": [
    "Acoording to the output of Python, we can get following conclusions:\n",
    "- Data type of \"Tutoring_Sessions\" is **float64**, but it should be **int64** (As a student can't have 0.5 tutoring session)"
   ]
  },
  {
   "cell_type": "code",
   "execution_count": 4,
   "id": "83759576-9f4c-4031-aab5-989109e6fdb3",
   "metadata": {},
   "outputs": [
    {
     "name": "stdout",
     "output_type": "stream",
     "text": [
      "Student_ID                0\n",
      "Study_Hours               0\n",
      "Attendance                0\n",
      "Rest_Hours              330\n",
      "Parental_Involvement      0\n",
      "Access_to_Resources       0\n",
      "dtype: int64\n",
      "Unnamed: 0             0\n",
      "Student_ID             0\n",
      "Internet_Access      281\n",
      "Tutoring_Sessions    281\n",
      "Family_Income          0\n",
      "Teacher_Quality       66\n",
      "School_Type            0\n",
      "dtype: int64\n",
      "Student_ID                    0\n",
      "Final_Score                 330\n",
      "Parental_Education_Level     90\n",
      "Distance_from_Home           67\n",
      "Gender                        0\n",
      "dtype: int64\n"
     ]
    }
   ],
   "source": [
    "# Identify differences and discrpancies between datasets\n",
    "# Check missing data\n",
    "print(df1.isnull().sum())\n",
    "print(df2.isnull().sum())\n",
    "print(df3.isnull().sum())"
   ]
  },
  {
   "cell_type": "markdown",
   "id": "17c1ea1b-43f0-440a-a960-fb3434a67548",
   "metadata": {},
   "source": [
    "According to the output of Python, we can get following conclusions:\n",
    "- In all 3 datasets, there are missings found in different columns (variables), but **df1 has the fewest missings**\n",
    "- These missing values need to be treated appropriately before analysis (**median imputation** for **numerical** columns and **mode imputation** for **categorical** columns)"
   ]
  },
  {
   "cell_type": "code",
   "execution_count": 5,
   "id": "fa2324f3-a762-498f-863d-2fe9c0d69362",
   "metadata": {},
   "outputs": [
    {
     "name": "stdout",
     "output_type": "stream",
     "text": [
      "['Student_ID', 'Hours_Studied', 'Attendance', 'Sleep_Hours', 'Parental_Involvement', 'Access_to_Resources']\n",
      "['Student_ID', 'Internet_Access', 'Tutoring_Sessions', 'Family_Income', 'Teacher_Quality', 'School_Type']\n",
      "['Student_ID', 'Exam_Score', 'Parental_Education_Level', 'Distance_from_Home', 'Gender']\n"
     ]
    }
   ],
   "source": [
    "# Reconstruct the original datasets\n",
    "# Adjusting column names\n",
    "df1.rename(columns={\n",
    "    \"Study_Hours\": \"Hours_Studied\",\n",
    "    \"Rest_Hours\": \"Sleep_Hours\"\n",
    "}, inplace=True)\n",
    "\n",
    "df3.rename(columns={\n",
    "    \"Final_Score\": \"Exam_Score\"\n",
    "}, inplace=True)\n",
    "\n",
    "# Delete unnecessory column in df2\n",
    "df2 = df2.drop(columns=[\"Unnamed: 0\"])\n",
    "\n",
    "# Check if the column names are correctly converted and the unnecessory column is deleted\n",
    "print(df1.columns.tolist())\n",
    "print(df2.columns.tolist())\n",
    "print(df3.columns.tolist())"
   ]
  },
  {
   "cell_type": "markdown",
   "id": "d5e0f1f2-55b9-4cfb-b526-667fd3d5da49",
   "metadata": {},
   "source": [
    "Note: As I **can't convert** the data type of \"Tutoring_Sessions\" when it has **missing values**, the convertion of its data type will be done **after merging and missing handling**"
   ]
  },
  {
   "cell_type": "code",
   "execution_count": 6,
   "id": "92d0db6c-a5c6-419c-8c15-f57e6ff083d4",
   "metadata": {},
   "outputs": [
    {
     "data": {
      "text/html": [
       "<div>\n",
       "<style scoped>\n",
       "    .dataframe tbody tr th:only-of-type {\n",
       "        vertical-align: middle;\n",
       "    }\n",
       "\n",
       "    .dataframe tbody tr th {\n",
       "        vertical-align: top;\n",
       "    }\n",
       "\n",
       "    .dataframe thead th {\n",
       "        text-align: right;\n",
       "    }\n",
       "</style>\n",
       "<table border=\"1\" class=\"dataframe\">\n",
       "  <thead>\n",
       "    <tr style=\"text-align: right;\">\n",
       "      <th></th>\n",
       "      <th>Student_ID</th>\n",
       "      <th>Hours_Studied</th>\n",
       "      <th>Attendance</th>\n",
       "      <th>Sleep_Hours</th>\n",
       "      <th>Parental_Involvement</th>\n",
       "      <th>Access_to_Resources</th>\n",
       "      <th>Internet_Access</th>\n",
       "      <th>Tutoring_Sessions</th>\n",
       "      <th>Family_Income</th>\n",
       "      <th>Teacher_Quality</th>\n",
       "      <th>School_Type</th>\n",
       "      <th>Exam_Score</th>\n",
       "      <th>Parental_Education_Level</th>\n",
       "      <th>Distance_from_Home</th>\n",
       "      <th>Gender</th>\n",
       "    </tr>\n",
       "  </thead>\n",
       "  <tbody>\n",
       "    <tr>\n",
       "      <th>0</th>\n",
       "      <td>1</td>\n",
       "      <td>23</td>\n",
       "      <td>84</td>\n",
       "      <td>8.0</td>\n",
       "      <td>Low</td>\n",
       "      <td>High</td>\n",
       "      <td>Available</td>\n",
       "      <td>0.0</td>\n",
       "      <td>Low</td>\n",
       "      <td>Medium</td>\n",
       "      <td>Public</td>\n",
       "      <td>65.0</td>\n",
       "      <td>High School</td>\n",
       "      <td>Close</td>\n",
       "      <td>Male</td>\n",
       "    </tr>\n",
       "    <tr>\n",
       "      <th>1</th>\n",
       "      <td>2</td>\n",
       "      <td>19</td>\n",
       "      <td>64</td>\n",
       "      <td>9.0</td>\n",
       "      <td>Low</td>\n",
       "      <td>Medium</td>\n",
       "      <td>Available</td>\n",
       "      <td>2.0</td>\n",
       "      <td>Medium</td>\n",
       "      <td>Medium</td>\n",
       "      <td>Public</td>\n",
       "      <td>59.0</td>\n",
       "      <td>College</td>\n",
       "      <td>Medium</td>\n",
       "      <td>Female</td>\n",
       "    </tr>\n",
       "    <tr>\n",
       "      <th>2</th>\n",
       "      <td>3</td>\n",
       "      <td>24</td>\n",
       "      <td>98</td>\n",
       "      <td>8.0</td>\n",
       "      <td>Medium</td>\n",
       "      <td>Medium</td>\n",
       "      <td>Available</td>\n",
       "      <td>2.0</td>\n",
       "      <td>Medium</td>\n",
       "      <td>Medium</td>\n",
       "      <td>Public</td>\n",
       "      <td>72.0</td>\n",
       "      <td>Postgraduate</td>\n",
       "      <td>Close</td>\n",
       "      <td>Male</td>\n",
       "    </tr>\n",
       "    <tr>\n",
       "      <th>3</th>\n",
       "      <td>4</td>\n",
       "      <td>29</td>\n",
       "      <td>89</td>\n",
       "      <td>9.0</td>\n",
       "      <td>Low</td>\n",
       "      <td>Medium</td>\n",
       "      <td>Available</td>\n",
       "      <td>1.0</td>\n",
       "      <td>Medium</td>\n",
       "      <td>Medium</td>\n",
       "      <td>Public</td>\n",
       "      <td>69.0</td>\n",
       "      <td>High School</td>\n",
       "      <td>Medium</td>\n",
       "      <td>Male</td>\n",
       "    </tr>\n",
       "    <tr>\n",
       "      <th>4</th>\n",
       "      <td>5</td>\n",
       "      <td>19</td>\n",
       "      <td>92</td>\n",
       "      <td>7.0</td>\n",
       "      <td>Medium</td>\n",
       "      <td>Medium</td>\n",
       "      <td>NaN</td>\n",
       "      <td>NaN</td>\n",
       "      <td>NaN</td>\n",
       "      <td>NaN</td>\n",
       "      <td>NaN</td>\n",
       "      <td>68.0</td>\n",
       "      <td>College</td>\n",
       "      <td>Close</td>\n",
       "      <td>Female</td>\n",
       "    </tr>\n",
       "  </tbody>\n",
       "</table>\n",
       "</div>"
      ],
      "text/plain": [
       "   Student_ID  Hours_Studied  Attendance  Sleep_Hours Parental_Involvement  \\\n",
       "0           1             23          84          8.0                  Low   \n",
       "1           2             19          64          9.0                  Low   \n",
       "2           3             24          98          8.0               Medium   \n",
       "3           4             29          89          9.0                  Low   \n",
       "4           5             19          92          7.0               Medium   \n",
       "\n",
       "  Access_to_Resources Internet_Access  Tutoring_Sessions Family_Income  \\\n",
       "0                High       Available                0.0           Low   \n",
       "1              Medium       Available                2.0        Medium   \n",
       "2              Medium       Available                2.0        Medium   \n",
       "3              Medium       Available                1.0        Medium   \n",
       "4              Medium             NaN                NaN           NaN   \n",
       "\n",
       "  Teacher_Quality School_Type  Exam_Score Parental_Education_Level  \\\n",
       "0          Medium      Public        65.0              High School   \n",
       "1          Medium      Public        59.0                  College   \n",
       "2          Medium      Public        72.0             Postgraduate   \n",
       "3          Medium      Public        69.0              High School   \n",
       "4             NaN         NaN        68.0                  College   \n",
       "\n",
       "  Distance_from_Home  Gender  \n",
       "0              Close    Male  \n",
       "1             Medium  Female  \n",
       "2              Close    Male  \n",
       "3             Medium    Male  \n",
       "4              Close  Female  "
      ]
     },
     "execution_count": 6,
     "metadata": {},
     "output_type": "execute_result"
    }
   ],
   "source": [
    "# Reconstruct the original datasets\n",
    "# Merging the datasets on \"Student_ID\"\n",
    "merged_df = df1.merge(df2, on=\"Student_ID\", how=\"outer\")\n",
    "merged_df = merged_df.merge(df3, on=\"Student_ID\", how=\"outer\")\n",
    "\n",
    "# Check the merged new dataset\n",
    "merged_df.head()"
   ]
  },
  {
   "cell_type": "code",
   "execution_count": 7,
   "id": "d6ceee0e-9757-480d-9b1b-eba10b2496aa",
   "metadata": {},
   "outputs": [
    {
     "name": "stdout",
     "output_type": "stream",
     "text": [
      "Student_ID                  0\n",
      "Hours_Studied               0\n",
      "Attendance                  0\n",
      "Sleep_Hours                 0\n",
      "Parental_Involvement        0\n",
      "Access_to_Resources         0\n",
      "Internet_Access             0\n",
      "Tutoring_Sessions           0\n",
      "Family_Income               0\n",
      "Teacher_Quality             0\n",
      "School_Type                 0\n",
      "Exam_Score                  0\n",
      "Parental_Education_Level    0\n",
      "Distance_from_Home          0\n",
      "Gender                      0\n",
      "dtype: int64\n"
     ]
    }
   ],
   "source": [
    "# Handling missing values (imputation)\n",
    "# For numeric values: median imputation\n",
    "for col in [\"Sleep_Hours\", \"Tutoring_Sessions\", \"Exam_Score\"]:\n",
    "    merged_df[col] = merged_df[col].fillna(merged_df[col].median())\n",
    "\n",
    "# For categorical values: mode imputation\n",
    "for col in [\"Internet_Access\", \"Family_Income\", \"Teacher_Quality\", \"School_Type\", \"Parental_Education_Level\", \"Distance_from_Home\"]:\n",
    "    merged_df[col] = merged_df[col].fillna(merged_df[col].mode()[0])\n",
    "\n",
    "# Check if the missing values are all imputated\n",
    "print(merged_df.isnull().sum())"
   ]
  },
  {
   "cell_type": "code",
   "execution_count": 8,
   "id": "4b92fa6d-9c95-4c66-8402-8135e2ed5ada",
   "metadata": {},
   "outputs": [
    {
     "name": "stdout",
     "output_type": "stream",
     "text": [
      "Student_ID                    int64\n",
      "Hours_Studied                 int64\n",
      "Attendance                    int64\n",
      "Sleep_Hours                 float64\n",
      "Parental_Involvement         object\n",
      "Access_to_Resources          object\n",
      "Internet_Access              object\n",
      "Tutoring_Sessions             int64\n",
      "Family_Income                object\n",
      "Teacher_Quality              object\n",
      "School_Type                  object\n",
      "Exam_Score                  float64\n",
      "Parental_Education_Level     object\n",
      "Distance_from_Home           object\n",
      "Gender                       object\n",
      "dtype: object\n"
     ]
    }
   ],
   "source": [
    "# Reconstruct the merged dataset\n",
    "# Adjusting data types\n",
    "merged_df[\"Tutoring_Sessions\"] = merged_df[\"Tutoring_Sessions\"].astype(int)\n",
    "\n",
    "# Check if the data types are correctly converted\n",
    "print(merged_df.dtypes)"
   ]
  },
  {
   "cell_type": "code",
   "execution_count": 9,
   "id": "55c6671b-27ff-457b-b237-59fdd7bc8da1",
   "metadata": {},
   "outputs": [
    {
     "data": {
      "text/html": [
       "<div>\n",
       "<style scoped>\n",
       "    .dataframe tbody tr th:only-of-type {\n",
       "        vertical-align: middle;\n",
       "    }\n",
       "\n",
       "    .dataframe tbody tr th {\n",
       "        vertical-align: top;\n",
       "    }\n",
       "\n",
       "    .dataframe thead th {\n",
       "        text-align: right;\n",
       "    }\n",
       "</style>\n",
       "<table border=\"1\" class=\"dataframe\">\n",
       "  <thead>\n",
       "    <tr style=\"text-align: right;\">\n",
       "      <th></th>\n",
       "      <th>Unnamed: 0</th>\n",
       "      <th>Student_ID</th>\n",
       "      <th>Hours_Studied</th>\n",
       "      <th>Attendance</th>\n",
       "      <th>Sleep_Hours</th>\n",
       "      <th>Parental_Involvement</th>\n",
       "      <th>Access_to_Resources</th>\n",
       "      <th>Internet_Access</th>\n",
       "      <th>Tutoring_Sessions</th>\n",
       "      <th>Family_Income</th>\n",
       "      <th>Teacher_Quality</th>\n",
       "      <th>School_Type</th>\n",
       "      <th>Exam_Score</th>\n",
       "      <th>Parental_Education_Level</th>\n",
       "      <th>Distance_from_Home</th>\n",
       "      <th>Gender</th>\n",
       "    </tr>\n",
       "  </thead>\n",
       "  <tbody>\n",
       "    <tr>\n",
       "      <th>0</th>\n",
       "      <td>0</td>\n",
       "      <td>1</td>\n",
       "      <td>23</td>\n",
       "      <td>84</td>\n",
       "      <td>8.0</td>\n",
       "      <td>Low</td>\n",
       "      <td>High</td>\n",
       "      <td>Available</td>\n",
       "      <td>0</td>\n",
       "      <td>Low</td>\n",
       "      <td>Medium</td>\n",
       "      <td>Public</td>\n",
       "      <td>65.0</td>\n",
       "      <td>High School</td>\n",
       "      <td>Close</td>\n",
       "      <td>Male</td>\n",
       "    </tr>\n",
       "    <tr>\n",
       "      <th>1</th>\n",
       "      <td>1</td>\n",
       "      <td>2</td>\n",
       "      <td>19</td>\n",
       "      <td>64</td>\n",
       "      <td>9.0</td>\n",
       "      <td>Low</td>\n",
       "      <td>Medium</td>\n",
       "      <td>Available</td>\n",
       "      <td>2</td>\n",
       "      <td>Medium</td>\n",
       "      <td>Medium</td>\n",
       "      <td>Public</td>\n",
       "      <td>59.0</td>\n",
       "      <td>College</td>\n",
       "      <td>Medium</td>\n",
       "      <td>Female</td>\n",
       "    </tr>\n",
       "    <tr>\n",
       "      <th>2</th>\n",
       "      <td>2</td>\n",
       "      <td>3</td>\n",
       "      <td>24</td>\n",
       "      <td>98</td>\n",
       "      <td>8.0</td>\n",
       "      <td>Medium</td>\n",
       "      <td>Medium</td>\n",
       "      <td>Available</td>\n",
       "      <td>2</td>\n",
       "      <td>Medium</td>\n",
       "      <td>Medium</td>\n",
       "      <td>Public</td>\n",
       "      <td>72.0</td>\n",
       "      <td>Postgraduate</td>\n",
       "      <td>Close</td>\n",
       "      <td>Male</td>\n",
       "    </tr>\n",
       "    <tr>\n",
       "      <th>3</th>\n",
       "      <td>3</td>\n",
       "      <td>4</td>\n",
       "      <td>29</td>\n",
       "      <td>89</td>\n",
       "      <td>9.0</td>\n",
       "      <td>Low</td>\n",
       "      <td>Medium</td>\n",
       "      <td>Available</td>\n",
       "      <td>1</td>\n",
       "      <td>Medium</td>\n",
       "      <td>Medium</td>\n",
       "      <td>Public</td>\n",
       "      <td>69.0</td>\n",
       "      <td>High School</td>\n",
       "      <td>Medium</td>\n",
       "      <td>Male</td>\n",
       "    </tr>\n",
       "    <tr>\n",
       "      <th>4</th>\n",
       "      <td>4</td>\n",
       "      <td>5</td>\n",
       "      <td>19</td>\n",
       "      <td>92</td>\n",
       "      <td>7.0</td>\n",
       "      <td>Medium</td>\n",
       "      <td>Medium</td>\n",
       "      <td>Available</td>\n",
       "      <td>1</td>\n",
       "      <td>Medium</td>\n",
       "      <td>Medium</td>\n",
       "      <td>Public</td>\n",
       "      <td>68.0</td>\n",
       "      <td>College</td>\n",
       "      <td>Close</td>\n",
       "      <td>Female</td>\n",
       "    </tr>\n",
       "  </tbody>\n",
       "</table>\n",
       "</div>"
      ],
      "text/plain": [
       "   Unnamed: 0  Student_ID  Hours_Studied  Attendance  Sleep_Hours  \\\n",
       "0           0           1             23          84          8.0   \n",
       "1           1           2             19          64          9.0   \n",
       "2           2           3             24          98          8.0   \n",
       "3           3           4             29          89          9.0   \n",
       "4           4           5             19          92          7.0   \n",
       "\n",
       "  Parental_Involvement Access_to_Resources Internet_Access  Tutoring_Sessions  \\\n",
       "0                  Low                High       Available                  0   \n",
       "1                  Low              Medium       Available                  2   \n",
       "2               Medium              Medium       Available                  2   \n",
       "3                  Low              Medium       Available                  1   \n",
       "4               Medium              Medium       Available                  1   \n",
       "\n",
       "  Family_Income Teacher_Quality School_Type  Exam_Score  \\\n",
       "0           Low          Medium      Public        65.0   \n",
       "1        Medium          Medium      Public        59.0   \n",
       "2        Medium          Medium      Public        72.0   \n",
       "3        Medium          Medium      Public        69.0   \n",
       "4        Medium          Medium      Public        68.0   \n",
       "\n",
       "  Parental_Education_Level Distance_from_Home  Gender  \n",
       "0              High School              Close    Male  \n",
       "1                  College             Medium  Female  \n",
       "2             Postgraduate              Close    Male  \n",
       "3              High School             Medium    Male  \n",
       "4                  College              Close  Female  "
      ]
     },
     "execution_count": 9,
     "metadata": {},
     "output_type": "execute_result"
    }
   ],
   "source": [
    "# Save the final dataset as Merged_StudentData.csv\n",
    "merged_df.to_csv(\"Merged_StudentData.csv\")\n",
    "\n",
    "# Check the new dataset\n",
    "new_df = pd.read_csv(\"Merged_StudentData.csv\")\n",
    "new_df.head()"
   ]
  },
  {
   "cell_type": "markdown",
   "id": "f2e28515a6e718f1",
   "metadata": {},
   "source": [
    "### Hypotheses testing\n",
    "\n",
    "Hypothesis 1: There is a positive correlation between the number of hours of sleep (Sleep_Hours) and the exam grade (Exam_Score).\n",
    "- Remove potential outliers (e.g. students who sleep extremely little or extremely much, i.e. top and bottom 3 %).\n",
    "- First check whether the variables are normally distributed. If not, apply Spearman correlation."
   ]
  },
  {
   "cell_type": "code",
   "execution_count": 10,
   "id": "290fe3a9cb4f9f67",
   "metadata": {},
   "outputs": [
    {
     "name": "stdout",
     "output_type": "stream",
     "text": [
      "Correlation method: Spearman\n",
      "Correlation coefficient: -0.0022180341022189957\n",
      "P-value: 0.8569519236445271\n",
      "Normality (Sleep_Hours): 3.343330001787795e-42\n",
      "Normality (Exam_Score): 4.54469168231018e-55\n"
     ]
    },
    {
     "name": "stderr",
     "output_type": "stream",
     "text": [
      "/opt/conda/lib/python3.10/site-packages/scipy/stats/_axis_nan_policy.py:586: UserWarning: scipy.stats.shapiro: For N > 5000, computed p-value may not be accurate. Current N is 6607.\n",
      "  res = hypotest_fun_out(*samples, **kwds)\n"
     ]
    }
   ],
   "source": [
    "from scipy.stats import shapiro, spearmanr, pearsonr\n",
    "\n",
    "# Sleep_Hours (Rest_Hours) vs Exam_Score (Final_Score)\n",
    "# Load the dataset\n",
    "merged_df = pd.read_csv(\"Merged_StudentData.csv\")\n",
    "\n",
    "# Remove top and bottom 3% of Sleep_Hours\n",
    "lower = merged_df[\"Sleep_Hours\"].quantile(0.03)\n",
    "upper = merged_df[\"Sleep_Hours\"].quantile(0.97)\n",
    "filtered = merged_df[(merged_df[\"Sleep_Hours\"] >= lower) & (merged_df[\"Sleep_Hours\"] <= upper)]\n",
    "\n",
    "# Check for normality\n",
    "shapiro_sleep = shapiro(merged_df[\"Sleep_Hours\"])\n",
    "shapiro_score = shapiro(merged_df[\"Exam_Score\"])\n",
    "\n",
    "# Choose correlation method\n",
    "if shapiro_sleep.pvalue < 0.05 or shapiro_score.pvalue < 0.05:\n",
    "    method = \"Spearman\"\n",
    "    corr, p = spearmanr(filtered[\"Sleep_Hours\"], filtered[\"Exam_Score\"])\n",
    "else:\n",
    "    method = \"Pearson\"\n",
    "    corr, p = pearsonr(filtered[\"Sleep_Hours\"], filtered[\"Exam_Score\"])\n",
    "\n",
    "# Output results\n",
    "print(\"Correlation method:\", method)\n",
    "print(\"Correlation coefficient:\", corr)\n",
    "print(\"P-value:\", p)\n",
    "print(\"Normality (Sleep_Hours):\", shapiro_sleep.pvalue)\n",
    "print(\"Normality (Exam_Score):\", shapiro_score.pvalue)"
   ]
  },
  {
   "cell_type": "markdown",
   "id": "3df2be69-8194-4eac-be52-e43041f8f788",
   "metadata": {},
   "source": [
    "Interpretation:\n",
    "- Correlation coefficient: -0.0022180341022189957\n",
    "\n",
    "The correlation coefficient is a negative value, which indicates there is a **negative** correlation between hours of sleep (Sleep_Hours) and the exam grade (Exam_Score). However, as the coefficient correlation is **very close to 0**, we can also claim that the correlation between these two variables is **very weak**. \n",
    "- P-value: 0.8569519236445271\n",
    "\n",
    "As P-value is larger than 0.05, we can claim that the correlation between hours of sleep (Sleep_Hours) and the exam grade (Exam_Score) is **not stastically significant**\n",
    "\n",
    "Conclusion:\n",
    "\n",
    "There is **no stastically significant correlation** between the number of hours of sleep (Sleep_Hours) and the exam grade (Exam_Score)"
   ]
  },
  {
   "cell_type": "markdown",
   "id": "fa1453d49a429749",
   "metadata": {},
   "source": [
    "Hypothesis 2: Students with Internet access (Internet_Access) spend more time studying (Hours_Studied) than students without Internet access.\n",
    "- Create a boxplot for visualization and check for outliers.\n",
    "- Remove extreme values according to boxplot definition."
   ]
  },
  {
   "cell_type": "code",
   "execution_count": 11,
   "id": "2529d7a969675c6b",
   "metadata": {},
   "outputs": [
    {
     "data": {
      "image/png": "[encoded data removed]",
      "text/plain": [
       "<Figure size 800x500 with 1 Axes>"
      ]
     },
     "metadata": {},
     "output_type": "display_data"
    }
   ],
   "source": [
    "import matplotlib.pyplot as plt\n",
    "import seaborn as sns\n",
    "\n",
    "# Internet_Access vs Hours_Studied\n",
    "# Load the dataset\n",
    "merged_df = pd.read_csv(\"Merged_StudentData.csv\")\n",
    "\n",
    "# Boxplot for visualization\n",
    "plt.figure(figsize=(8, 5))\n",
    "sns.boxplot(x=\"Internet_Access\", y=\"Hours_Studied\", data=merged_df)\n",
    "plt.title(\"Hours Studied by Internet Access\")\n",
    "plt.xlabel(\"Internet Access\")\n",
    "plt.ylabel(\"Hours Studied\")\n",
    "plt.grid(True)\n",
    "plt.show()"
   ]
  },
  {
   "cell_type": "code",
   "execution_count": 12,
   "id": "ef031c0b-0beb-466c-bc4d-2ac6ba5320b3",
   "metadata": {},
   "outputs": [
    {
     "data": {
      "image/png": "[encoded data removed]",
      "text/plain": [
       "<Figure size 800x500 with 1 Axes>"
      ]
     },
     "metadata": {},
     "output_type": "display_data"
    }
   ],
   "source": [
    "# Remove outliers based on IQR method\n",
    "Q1 = merged_df[\"Hours_Studied\"].quantile(0.25)\n",
    "Q3 = merged_df[\"Hours_Studied\"].quantile(0.75)\n",
    "IQR = Q3 - Q1\n",
    "lower_bound = Q1 - 1.5 * IQR\n",
    "upper_bound = Q3 + 1.5 * IQR\n",
    "filtered_df = merged_df[(merged_df[\"Hours_Studied\"] >= lower_bound) & (merged_df[\"Hours_Studied\"] <= upper_bound)]\n",
    "\n",
    "# Check if the outliers are successfully removed\n",
    "plt.figure(figsize=(8, 5))\n",
    "sns.boxplot(x=\"Internet_Access\", y=\"Hours_Studied\", data=filtered_df)\n",
    "plt.title(\"Hours Studied by Internet Access\")\n",
    "plt.xlabel(\"Internet Access\")\n",
    "plt.ylabel(\"Hours Studied\")\n",
    "plt.grid(True)\n",
    "plt.show()"
   ]
  },
  {
   "cell_type": "code",
   "execution_count": 13,
   "id": "1de3b6ca-1dbf-43ff-a7ab-6ae0af9f1c29",
   "metadata": {},
   "outputs": [
    {
     "name": "stdout",
     "output_type": "stream",
     "text": [
      "Group with Internet access - Mean study hours: 19.978585334198574\n",
      "Group without Internet access - Mean study hours: 19.825\n",
      "U statistic: 1244657.0\n",
      "P-value: 0.7465036698807448\n"
     ]
    }
   ],
   "source": [
    "# Grouped by Internet_Access\n",
    "group_available = filtered_df.loc[filtered_df[\"Internet_Access\"] == \"Available\"][\"Hours_Studied\"]\n",
    "group_unavailable = filtered_df.loc[filtered_df[\"Internet_Access\"] == \"Unavailable\"][\"Hours_Studied\"]\n",
    "\n",
    "from scipy.stats import mannwhitneyu\n",
    "\n",
    "# Mann-Whitney U test\n",
    "U, P = mannwhitneyu(group_available, group_unavailable)\n",
    "\n",
    "# Output results\n",
    "print(\"Group with Internet access - Mean study hours:\", group_available.mean())\n",
    "print(\"Group without Internet access - Mean study hours:\", group_unavailable.mean())\n",
    "print(\"U statistic:\", U)\n",
    "print(\"P-value:\", P)"
   ]
  },
  {
   "cell_type": "markdown",
   "id": "af7af5bb-a004-41bf-b496-08fb8217fa50",
   "metadata": {},
   "source": [
    "Interpretation:\n",
    "- Mean study hours\n",
    "\n",
    "As the mean value in the group **without Internet access** is **higher** than the group **with Internet access**, we can say that **students with Internet access spend more time than students without it**. However, the difference in mean study hours between students with and without internet access is **very small (19.978585334198574 hours vs 19.825 hours)**, which in fact can also be seen as **no huge difference**\n",
    "- P-value: 0.7465036698807448\n",
    "\n",
    "As P-value is larger than 0.05, we can claim that there is **no stastically significant difference** in hours of study (Hours_Studied) between students with Internet access and students without Internet access\n",
    "\n",
    "Conclusion:\n",
    "\n",
    "There is **no stastically significant difference** in hours of study (Hours_Studied) between students with Internet access and students without Internet access"
   ]
  },
  {
   "cell_type": "markdown",
   "id": "ac496c521a3a5cc2",
   "metadata": {},
   "source": [
    "Hypothesis 3: Students who receive tutoring (Tutoring_Sessions) have higher exam grades than students without tutoring."
   ]
  },
  {
   "cell_type": "code",
   "execution_count": 14,
   "id": "2bb6b6291eade00",
   "metadata": {},
   "outputs": [
    {
     "data": {
      "image/png": "[encoded data removed]",
      "text/plain": [
       "<Figure size 800x500 with 1 Axes>"
      ]
     },
     "metadata": {},
     "output_type": "display_data"
    }
   ],
   "source": [
    "# Tutoring_Sessions vs Exam_Score\n",
    "# Load the dataset\n",
    "merged_df = pd.read_csv(\"Merged_StudentData.csv\")\n",
    "\n",
    "# Convert Tutoring_Sessions to binary: \"Yes\" (1 or more sessions) vs \"No\" (0 sessions)\n",
    "merged_df[\"Received_Tutoring\"] = merged_df[\"Tutoring_Sessions\"].apply(lambda x: \"Yes\" if x > 0 else \"No\")\n",
    "\n",
    "# Boxplot for visualization\n",
    "plt.figure(figsize=(8, 5))\n",
    "sns.boxplot(x=\"Received_Tutoring\", y=\"Exam_Score\", data=merged_df)\n",
    "plt.title(\"Exam Score by Tutoring Participation\")\n",
    "plt.xlabel(\"Received Tutoring\")\n",
    "plt.ylabel(\"Exam Score\")\n",
    "plt.grid(True)\n",
    "plt.show()"
   ]
  },
  {
   "cell_type": "code",
   "execution_count": 15,
   "id": "8efe0d2d-42c3-4075-9790-be4b632aee52",
   "metadata": {},
   "outputs": [
    {
     "name": "stdout",
     "output_type": "stream",
     "text": [
      "Group with tutoring - Mean exam score: 65.38012999071495\n",
      "Group without tutoring - Mean exam score: 64.55400981996726\n",
      "U statistic: 3694716.5\n",
      "P-value: 1.475533625501159e-11\n"
     ]
    }
   ],
   "source": [
    "# Grouped by Received_Tutoring\n",
    "group_tutored = merged_df[merged_df[\"Received_Tutoring\"] == \"Yes\"][\"Exam_Score\"]\n",
    "group_not_tutored = merged_df[merged_df[\"Received_Tutoring\"] == \"No\"][\"Exam_Score\"]\n",
    "\n",
    "# Mann–Whitney U test\n",
    "U, P = mannwhitneyu(group_tutored, group_not_tutored)\n",
    "\n",
    "# Output results\n",
    "print(\"Group with tutoring - Mean exam score:\", group_tutored.mean())\n",
    "print(\"Group without tutoring - Mean exam score:\", group_not_tutored.mean())\n",
    "print(\"U statistic:\", U)\n",
    "print(\"P-value:\", P)"
   ]
  },
  {
   "cell_type": "markdown",
   "id": "3fc8af79-d7c1-46af-9399-c9ed1d7af923",
   "metadata": {},
   "source": [
    "Interpretation:\n",
    "- Mean exam score\n",
    "\n",
    "As the mean value in the group **with tutoring** is **higher** than the group **without tutoring**, we can say that **students who receive tutoring have higher exam grades than students without tutoring**. However, the difference in mean exam score between students with and without tutoring is **very small (65.38012999071495 vs 64.55400981996726)** and whether the difference is meaningful in practice is **debatable**\n",
    "- P-value: 1.475533625501159e-11\n",
    "\n",
    "As P-value is smaller than 0.05, we can claim that there is **stastically significant difference** in exam grades (Exam_Score) between students who receive tutoring and students without tutoring\n",
    "\n",
    "Conclusion:\n",
    "\n",
    "There is **stastically significant difference** in exam grades (Exam_Score) between students who receive tutoring and students without tutoring. However, whether the difference is meaningful in practice is **debatable**"
   ]
  }
 ],
 "metadata": {
  "kernelspec": {
   "display_name": "Python 3 (ipykernel)",
   "language": "python",
   "name": "python3"
  },
  "language_info": {
   "codemirror_mode": {
    "name": "ipython",
    "version": 3
   },
   "file_extension": ".py",
   "mimetype": "text/x-python",
   "name": "python",
   "nbconvert_exporter": "python",
   "pygments_lexer": "ipython3",
   "version": "3.10.15"
  }
 },
 "nbformat": 4,
 "nbformat_minor": 5
}
