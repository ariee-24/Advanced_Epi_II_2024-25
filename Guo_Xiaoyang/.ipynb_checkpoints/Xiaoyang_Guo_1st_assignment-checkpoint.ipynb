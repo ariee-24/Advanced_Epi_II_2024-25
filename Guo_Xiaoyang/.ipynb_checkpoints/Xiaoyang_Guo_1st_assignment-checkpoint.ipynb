{
 "cells": [
  {
   "cell_type": "markdown",
   "id": "30ed7439-d84d-46e2-b949-f64e787b7859",
   "metadata": {},
   "source": [
    "## Exercise: Writing functions\n",
    "In the following, you will write three functions in which you integrate the previously learned content."
   ]
  },
  {
   "cell_type": "markdown",
   "id": "5d9c266e-d467-412e-aa4d-8d0d90478aa5",
   "metadata": {},
   "source": [
    "### Function 1: Beergarden capacity\n",
    "\n",
    "Write a function `beer_garden_capacity(guests, tables)` that calculates whether there are enough seats in a beer garden.\n",
    "\n",
    "Each table has 8 seats.\n",
    "The function should return:\n",
    "- `“There are enough tables!”` → if there is enough space.\n",
    "- `“Not enough tables, find another beer garden!”` → if there are more guests than seats."
   ]
  },
  {
   "cell_type": "code",
   "execution_count": 1,
   "id": "9911e14c-dac6-400b-be11-2ee72d597653",
   "metadata": {},
   "outputs": [
    {
     "name": "stdout",
     "output_type": "stream",
     "text": [
      "There are enough tables!\n",
      "Not enough tables, find another beer garden!\n"
     ]
    }
   ],
   "source": [
    "# Define the function\n",
    "def beer_garden_capacity(guests, tables):\n",
    "    if guests > 8*tables:\n",
    "        return(\"Not enough tables, find another beer garden!\")\n",
    "    else:\n",
    "        return(\"There are enough tables!\")\n",
    "\n",
    "# Examples\n",
    "print(beer_garden_capacity(40,6))\n",
    "print(beer_garden_capacity(50,5))"
   ]
  },
  {
   "cell_type": "markdown",
   "id": "1afd4aee-513d-421e-ad04-a1f3afaa5dfa",
   "metadata": {},
   "source": [
    "### Function 2: Isar swimming warning\n",
    "Write a function `isar_swimming_warning(temp, flow_rate)` that outputs a warning whether the Isar is too dangerous for swimmers.\n",
    "\n",
    "- If the water temperature is below 15°C, the function should return `“Warning: The Isar is too cold! ❄️”` should be returned.\n",
    "- If the flow velocity is above 300 m³/s, the function `“Warning: The current is too strong! 🌊”` should be returned.\n",
    "- If both apply, the function `“Danger! The Isar is too cold and too strong! ⚠️”`.\n",
    "- If everything is fine, it returns `“Safe to swim! Enjoy the Isar! 🏊‍♂️”`."
   ]
  },
  {
   "cell_type": "code",
   "execution_count": 2,
   "id": "2cb376ed-516c-495a-a5e2-b8a88cd3e7b4",
   "metadata": {},
   "outputs": [
    {
     "name": "stdout",
     "output_type": "stream",
     "text": [
      "Warning: The Isar is too cold! ❄️\n",
      "Warning: The current is too strong! 🌊\n",
      "Danger! The Isar is too cold and too strong! ⚠️\n",
      "Safe to swim! Enjoy the Isar! 🏊‍♂️\n"
     ]
    }
   ],
   "source": [
    "# Define the function\n",
    "def isar_swimming_warning(temp, flow_rate):\n",
    "    if temp < 15 and flow_rate > 300:\n",
    "        return(\"Danger! The Isar is too cold and too strong! ⚠️\")\n",
    "    elif flow_rate > 300:\n",
    "        return(\"Warning: The current is too strong! 🌊\")\n",
    "    elif temp < 15:\n",
    "        return(\"Warning: The Isar is too cold! ❄️\")\n",
    "    else:\n",
    "        return(\"Safe to swim! Enjoy the Isar! 🏊‍♂️\")\n",
    "\n",
    "# Examples\n",
    "print(isar_swimming_warning(14, 250))\n",
    "print(isar_swimming_warning(16, 320))\n",
    "print(isar_swimming_warning(12, 350))\n",
    "print(isar_swimming_warning(18, 280))"
   ]
  },
  {
   "cell_type": "markdown",
   "id": "64ecdd77-0394-4c99-a190-fa2477435008",
   "metadata": {},
   "source": [
    "### Function 3: Flu cases\n",
    "Write a function `flu_cases(city_population, infection_rate, days)` that calculates the number of infected people in in several cities in Bavaria over a certain number of days using a simple exponential formula:\n",
    "\n",
    "$$\n",
    "\\text{Infected} = \\text{City population} \\times \\left( 1 - e^{-\\text{Infection rate} \\times \\text{Days}} \\right)\n",
    "$$\n",
    "\n",
    "- The cities and their populations are stored in two lists:\n",
    "    - city_names: Contains the city name (Munich, Nuremberg, Augsburg).\n",
    "    - populations: Contains the respective population figures (1480000, 530000, 300000).\n",
    "- The infection rate indicates how quickly the disease is spreading (e.g. `0.1` for slow spread, `0.3` for fast spread).\n",
    "- The function should round up the calculated number and output it in a formatted string.\n",
    "\n",
    "Note: `math.exp(-rate * days)` calculates the exponential term."
   ]
  },
  {
   "cell_type": "code",
   "execution_count": 3,
   "id": "e6c12a19-4935-48cc-8b16-bdc166208667",
   "metadata": {},
   "outputs": [
    {
     "name": "stdout",
     "output_type": "stream",
     "text": [
      "In Munich, there will be 745054 people infected in 7 days.\n",
      "In Nuremberg, there will be 266810 people infected in 7 days.\n",
      "In Augsburg, there will be 151024 people infected in 7 days.\n",
      "In Munich, there will be 1298764 people infected in 7 days.\n",
      "In Nuremberg, there will be 465098 people infected in 7 days.\n",
      "In Augsburg, there will be 263263 people infected in 7 days.\n"
     ]
    }
   ],
   "source": [
    "import math\n",
    "\n",
    "# Create new lists\n",
    "city_names = [\"Munich\", \"Nuremberg\", \"Augsburg\"]\n",
    "populations = [1480000, 530000, 300000]\n",
    "\n",
    "# Define the function\n",
    "def flu_cases(city_names, populations, infection_rate, days):\n",
    "    results = []\n",
    "    for i in range(len(city_names)):\n",
    "        flu_cases = round(populations[i] * (1 - math.exp(-infection_rate*days)))\n",
    "        results.append(f\"In {city_names[i]}, there will be {flu_cases} people infected in {days} days.\")\n",
    "    return(\"\\n\".join(results))\n",
    "\n",
    "# Examples\n",
    "print(flu_cases(city_names, populations, 0.1, 7))\n",
    "print(flu_cases(city_names, populations, 0.3, 7))"
   ]
  }
 ],
 "metadata": {
  "kernelspec": {
   "display_name": "Python 3 (ipykernel)",
   "language": "python",
   "name": "python3"
  },
  "language_info": {
   "codemirror_mode": {
    "name": "ipython",
    "version": 3
   },
   "file_extension": ".py",
   "mimetype": "text/x-python",
   "name": "python",
   "nbconvert_exporter": "python",
   "pygments_lexer": "ipython3",
   "version": "3.10.15"
  }
 },
 "nbformat": 4,
 "nbformat_minor": 5
}
